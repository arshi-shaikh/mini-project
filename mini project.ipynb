{
 "cells": [
  {
   "cell_type": "code",
   "execution_count": 1,
   "id": "13cd9bbd",
   "metadata": {},
   "outputs": [],
   "source": [
    "import pandas as pd"
   ]
  },
  {
   "cell_type": "code",
   "execution_count": 18,
   "id": "a3bb10a9",
   "metadata": {},
   "outputs": [],
   "source": [
    "apple= pd.read_csv(r\"C:\\Users\\HP\\Desktop\\arshi programs\\DS_PT_1-main\\Spec-DS\\Mini-1\\AAPL.csv\")\n",
    "google= pd.read_csv(r\"C:\\Users\\HP\\Desktop\\arshi programs\\DS_PT_1-main\\Spec-DS\\Mini-1\\GOOG.csv\")\n",
    "amazon= pd.read_csv(r\"C:\\Users\\HP\\Desktop\\arshi programs\\DS_PT_1-main\\Spec-DS\\Mini-1\\AMZN.csv\")"
   ]
  },
  {
   "cell_type": "code",
   "execution_count": 19,
   "id": "8dd0f1bf",
   "metadata": {},
   "outputs": [
    {
     "name": "stdout",
     "output_type": "stream",
     "text": [
      "            Date        Open        High         Low       Close   Adj Close  \\\n",
      "0     2000-01-03    3.745536    4.017857    3.631696    3.997768    3.596616   \n",
      "1     2000-01-04    3.866071    3.950893    3.613839    3.660714    3.293384   \n",
      "2     2000-01-05    3.705357    3.948661    3.678571    3.714286    3.341579   \n",
      "3     2000-01-06    3.790179    3.821429    3.392857    3.392857    3.052405   \n",
      "4     2000-01-07    3.446429    3.607143    3.410714    3.553571    3.196992   \n",
      "...          ...         ...         ...         ...         ...         ...   \n",
      "4470  2017-10-09  155.809998  156.729996  155.490005  155.839996  155.839996   \n",
      "4471  2017-10-10  156.059998  158.000000  155.100006  155.899994  155.899994   \n",
      "4472  2017-10-11  155.970001  156.979996  155.750000  156.550003  156.550003   \n",
      "4473  2017-10-12  156.350006  157.369995  155.729996  156.000000  156.000000   \n",
      "4474  2017-10-13  156.729996  157.279999  156.410004  156.990005  156.990005   \n",
      "\n",
      "         Volume  \n",
      "0     133949200  \n",
      "1     128094400  \n",
      "2     194580400  \n",
      "3     191993200  \n",
      "4     115183600  \n",
      "...         ...  \n",
      "4470   16262900  \n",
      "4471   15617000  \n",
      "4472   16905600  \n",
      "4473   16125100  \n",
      "4474   16344800  \n",
      "\n",
      "[4475 rows x 7 columns]\n",
      "            Date        Open        High         Low       Close   Adj Close  \\\n",
      "0     2004-08-19   49.676899   51.693783   47.669952   49.845802   49.845802   \n",
      "1     2004-08-20   50.178635   54.187561   49.925285   53.805050   53.805050   \n",
      "2     2004-08-23   55.017166   56.373344   54.172661   54.346527   54.346527   \n",
      "3     2004-08-24   55.260582   55.439419   51.450363   52.096165   52.096165   \n",
      "4     2004-08-25   52.140873   53.651051   51.604362   52.657513   52.657513   \n",
      "...          ...         ...         ...         ...         ...         ...   \n",
      "3308  2017-10-09  980.000000  985.424988  976.109985  977.000000  977.000000   \n",
      "3309  2017-10-10  980.000000  981.570007  966.080017  972.599976  972.599976   \n",
      "3310  2017-10-11  973.719971  990.710022  972.250000  989.250000  989.250000   \n",
      "3311  2017-10-12  987.450012  994.119995  985.000000  987.830017  987.830017   \n",
      "3312  2017-10-13  992.000000  997.210022  989.000000  989.679993  989.679993   \n",
      "\n",
      "        Volume  \n",
      "0     44994500  \n",
      "1     23005800  \n",
      "2     18393200  \n",
      "3     15361800  \n",
      "4      9257400  \n",
      "...        ...  \n",
      "3308    891400  \n",
      "3309    968400  \n",
      "3310   1693300  \n",
      "3311   1262400  \n",
      "3312   1157700  \n",
      "\n",
      "[3313 rows x 7 columns]\n",
      "            Date         Open         High          Low        Close  \\\n",
      "0     2000-01-03    81.500000    89.562500    79.046799    89.375000   \n",
      "1     2000-01-04    85.375000    91.500000    81.750000    81.937500   \n",
      "2     2000-01-05    70.500000    75.125000    68.000000    69.750000   \n",
      "3     2000-01-06    71.312500    72.687500    64.000000    65.562500   \n",
      "4     2000-01-07    67.000000    70.500000    66.187500    69.562500   \n",
      "...          ...          ...          ...          ...          ...   \n",
      "4470  2017-10-09   993.239990   998.500000   987.500000   990.989990   \n",
      "4471  2017-10-10   996.669983   997.950012   980.099976   987.200012   \n",
      "4472  2017-10-11   991.270020   995.500000   986.700012   995.000000   \n",
      "4473  2017-10-12   996.809998  1008.440002   992.400024  1000.929993   \n",
      "4474  2017-10-13  1007.000000  1007.770020  1001.030029  1002.940002   \n",
      "\n",
      "        Adj Close    Volume  \n",
      "0       89.375000  16117600  \n",
      "1       81.937500  17487400  \n",
      "2       69.750000  38457400  \n",
      "3       65.562500  18752000  \n",
      "4       69.562500  10505400  \n",
      "...           ...       ...  \n",
      "4470   990.989990   2938600  \n",
      "4471   987.200012   3084900  \n",
      "4472   995.000000   2337100  \n",
      "4473  1000.929993   4067300  \n",
      "4474  1002.940002   2407700  \n",
      "\n",
      "[4475 rows x 7 columns]\n"
     ]
    }
   ],
   "source": [
    "print(apple)\n",
    "print(google)\n",
    "print(amazon)"
   ]
  },
  {
   "cell_type": "code",
   "execution_count": 20,
   "id": "b9f7d326",
   "metadata": {},
   "outputs": [
    {
     "name": "stdout",
     "output_type": "stream",
     "text": [
      "       Adj Close\n",
      "0       3.596616\n",
      "1       3.293384\n",
      "2       3.341579\n",
      "3       3.052405\n",
      "4       3.196992\n",
      "...          ...\n",
      "4470  155.839996\n",
      "4471  155.899994\n",
      "4472  156.550003\n",
      "4473  156.000000\n",
      "4474  156.990005\n",
      "\n",
      "[4475 rows x 1 columns]\n",
      "       Adj Close\n",
      "0      49.845802\n",
      "1      53.805050\n",
      "2      54.346527\n",
      "3      52.096165\n",
      "4      52.657513\n",
      "...          ...\n",
      "3308  977.000000\n",
      "3309  972.599976\n",
      "3310  989.250000\n",
      "3311  987.830017\n",
      "3312  989.679993\n",
      "\n",
      "[3313 rows x 1 columns]\n",
      "        Adj Close\n",
      "0       89.375000\n",
      "1       81.937500\n",
      "2       69.750000\n",
      "3       65.562500\n",
      "4       69.562500\n",
      "...           ...\n",
      "4470   990.989990\n",
      "4471   987.200012\n",
      "4472   995.000000\n",
      "4473  1000.929993\n",
      "4474  1002.940002\n",
      "\n",
      "[4475 rows x 1 columns]\n"
     ]
    }
   ],
   "source": [
    "df1 = pd.DataFrame(apple, columns=['Adj Close'])\n",
    "print(df1)\n",
    "df2 = pd.DataFrame(google, columns=['Adj Close'])\n",
    "print(df2)\n",
    "df3 = pd.DataFrame(amazon, columns=['Adj Close'])\n",
    "print(df3)"
   ]
  },
  {
   "cell_type": "code",
   "execution_count": 22,
   "id": "e6404fb6",
   "metadata": {},
   "outputs": [
    {
     "name": "stdout",
     "output_type": "stream",
     "text": [
      "      Adj Close\n",
      "0         False\n",
      "1         False\n",
      "2         False\n",
      "3         False\n",
      "4         False\n",
      "...         ...\n",
      "4470      False\n",
      "4471      False\n",
      "4472      False\n",
      "4473      False\n",
      "4474      False\n",
      "\n",
      "[4475 rows x 1 columns]\n",
      "       Adj Close\n",
      "0       3.596616\n",
      "1       3.293384\n",
      "2       3.341579\n",
      "3       3.052405\n",
      "4       3.196992\n",
      "...          ...\n",
      "4470  155.839996\n",
      "4471  155.899994\n",
      "4472  156.550003\n",
      "4473  156.000000\n",
      "4474  156.990005\n",
      "\n",
      "[4475 rows x 1 columns]\n"
     ]
    }
   ],
   "source": [
    "print(df1.isnull())\n",
    "print(df1.dropna())"
   ]
  },
  {
   "cell_type": "code",
   "execution_count": 23,
   "id": "c4f1b4c8",
   "metadata": {},
   "outputs": [
    {
     "name": "stdout",
     "output_type": "stream",
     "text": [
      "      Adj Close\n",
      "0         False\n",
      "1         False\n",
      "2         False\n",
      "3         False\n",
      "4         False\n",
      "...         ...\n",
      "3308      False\n",
      "3309      False\n",
      "3310      False\n",
      "3311      False\n",
      "3312      False\n",
      "\n",
      "[3313 rows x 1 columns]\n",
      "       Adj Close\n",
      "0      49.845802\n",
      "1      53.805050\n",
      "2      54.346527\n",
      "3      52.096165\n",
      "4      52.657513\n",
      "...          ...\n",
      "3308  977.000000\n",
      "3309  972.599976\n",
      "3310  989.250000\n",
      "3311  987.830017\n",
      "3312  989.679993\n",
      "\n",
      "[3313 rows x 1 columns]\n"
     ]
    }
   ],
   "source": [
    "print(df2.isnull())\n",
    "print(df2.dropna())"
   ]
  },
  {
   "cell_type": "code",
   "execution_count": 24,
   "id": "2cbff95a",
   "metadata": {},
   "outputs": [
    {
     "name": "stdout",
     "output_type": "stream",
     "text": [
      "      Adj Close\n",
      "0         False\n",
      "1         False\n",
      "2         False\n",
      "3         False\n",
      "4         False\n",
      "...         ...\n",
      "4470      False\n",
      "4471      False\n",
      "4472      False\n",
      "4473      False\n",
      "4474      False\n",
      "\n",
      "[4475 rows x 1 columns]\n",
      "        Adj Close\n",
      "0       89.375000\n",
      "1       81.937500\n",
      "2       69.750000\n",
      "3       65.562500\n",
      "4       69.562500\n",
      "...           ...\n",
      "4470   990.989990\n",
      "4471   987.200012\n",
      "4472   995.000000\n",
      "4473  1000.929993\n",
      "4474  1002.940002\n",
      "\n",
      "[4475 rows x 1 columns]\n"
     ]
    }
   ],
   "source": [
    "print(df3.isnull())\n",
    "print(df3.dropna())"
   ]
  },
  {
   "cell_type": "code",
   "execution_count": 38,
   "id": "2968dd7b",
   "metadata": {},
   "outputs": [
    {
     "name": "stdout",
     "output_type": "stream",
     "text": [
      "         Adj Close\n",
      "count  4475.000000\n",
      "mean     40.069959\n",
      "std      43.478843\n",
      "min       0.843106\n",
      "25%       3.498618\n",
      "50%      20.428621\n",
      "75%      70.963589\n",
      "max     164.050003\n",
      "sum Adj Close    179313.065991\n",
      "dtype: float64\n",
      "mean Adj Close    40.069959\n",
      "dtype: float64\n",
      "median Adj Close    20.428621\n",
      "dtype: float64\n",
      "standard deviation Adj Close    43.478843\n",
      "dtype: float64\n"
     ]
    }
   ],
   "source": [
    "print(df1.describe())\n",
    "print('sum',df1.sum())\n",
    "print('mean',df1.mean())\n",
    "print('median',df1.median())\n",
    "print('standard deviation',df1.std())\n"
   ]
  },
  {
   "cell_type": "code",
   "execution_count": 39,
   "id": "e5da0d12",
   "metadata": {},
   "outputs": [
    {
     "name": "stdout",
     "output_type": "stream",
     "text": [
      "         Adj Close\n",
      "count  3313.000000\n",
      "mean    380.072458\n",
      "std     223.853780\n",
      "min      49.681866\n",
      "25%     226.407440\n",
      "50%     293.029114\n",
      "75%     536.690002\n",
      "max     989.679993\n",
      "sum Adj Close    1.259180e+06\n",
      "dtype: float64\n",
      "mean Adj Close    380.072458\n",
      "dtype: float64\n",
      "median Adj Close    293.029114\n",
      "dtype: float64\n",
      "standard deviation Adj Close    223.85378\n",
      "dtype: float64\n"
     ]
    }
   ],
   "source": [
    "print(df2.describe())\n",
    "print('sum',df2.sum())\n",
    "print('mean',df2.mean())\n",
    "print('median',df2.median())\n",
    "print('standard deviation',df2.std())\n"
   ]
  },
  {
   "cell_type": "code",
   "execution_count": 40,
   "id": "1fbc64c4",
   "metadata": {},
   "outputs": [
    {
     "name": "stdout",
     "output_type": "stream",
     "text": [
      "         Adj Close\n",
      "count  4475.000000\n",
      "mean    199.754344\n",
      "std     242.728656\n",
      "min       5.970000\n",
      "25%      38.580002\n",
      "50%      80.239998\n",
      "75%     269.875000\n",
      "max    1052.800049\n",
      "sum Adj Close    893900.690722\n",
      "dtype: float64\n",
      "mean Adj Close    199.754344\n",
      "dtype: float64\n",
      "median Adj Close    80.239998\n",
      "dtype: float64\n",
      "standard deviation Adj Close    242.728656\n",
      "dtype: float64\n"
     ]
    }
   ],
   "source": [
    "print(df3.describe())\n",
    "print('sum',df3.sum())\n",
    "print('mean',df3.mean())\n",
    "print('median',df3.median())\n",
    "print('standard deviation',df3.std())\n"
   ]
  },
  {
   "cell_type": "code",
   "execution_count": 50,
   "id": "02bd9bf0",
   "metadata": {},
   "outputs": [
    {
     "name": "stdout",
     "output_type": "stream",
     "text": [
      "       Adj Close  Adj Close    Adj Close\n",
      "0       3.596616  49.845802    89.375000\n",
      "1       3.293384  53.805050    81.937500\n",
      "2       3.341579  54.346527    69.750000\n",
      "3       3.052405  52.096165    65.562500\n",
      "4       3.196992  52.657513    69.562500\n",
      "...          ...        ...          ...\n",
      "4470  155.839996        NaN   990.989990\n",
      "4471  155.899994        NaN   987.200012\n",
      "4472  156.550003        NaN   995.000000\n",
      "4473  156.000000        NaN  1000.929993\n",
      "4474  156.990005        NaN  1002.940002\n",
      "\n",
      "[4475 rows x 3 columns]\n"
     ]
    }
   ],
   "source": [
    "result= pd.concat([df1,df2,df3],axis=1)\n",
    "print(result)"
   ]
  },
  {
   "cell_type": "code",
   "execution_count": null,
   "id": "0fcd9cac",
   "metadata": {},
   "outputs": [],
   "source": [
    "import matplotlib as mpl\n",
    "import matplotlib.pyplot as plt"
   ]
  }
 ],
 "metadata": {
  "kernelspec": {
   "display_name": "Python 3 (ipykernel)",
   "language": "python",
   "name": "python3"
  },
  "language_info": {
   "codemirror_mode": {
    "name": "ipython",
    "version": 3
   },
   "file_extension": ".py",
   "mimetype": "text/x-python",
   "name": "python",
   "nbconvert_exporter": "python",
   "pygments_lexer": "ipython3",
   "version": "3.11.0"
  }
 },
 "nbformat": 4,
 "nbformat_minor": 5
}
