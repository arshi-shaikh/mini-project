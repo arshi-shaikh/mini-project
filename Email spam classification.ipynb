{
 "cells": [
  {
   "cell_type": "code",
   "execution_count": 2,
   "id": "b5b435f8",
   "metadata": {},
   "outputs": [],
   "source": [
    "import pandas as pd\n",
    "import numpy as np\n",
    "from sklearn.model_selection import train_test_split\n",
    "from sklearn.naive_bayes import MultinomialNB\n",
    "from sklearn.svm import SVC\n",
    "from sklearn.tree import DecisionTreeClassifier\n",
    "from sklearn.ensemble import RandomForestClassifier\n",
    "from sklearn.ensemble import BaggingClassifier\n",
    "from sklearn.metrics import accuracy_score, confusion_matrix, classification_report"
   ]
  },
  {
   "cell_type": "code",
   "execution_count": 3,
   "id": "7aac2c47",
   "metadata": {},
   "outputs": [
    {
     "name": "stdout",
     "output_type": "stream",
     "text": [
      "       Email No.  the  to  ect  and  for  of    a  you  hou  ...  connevey  \\\n",
      "0        Email 1    0   0    1    0    0   0    2    0    0  ...         0   \n",
      "1        Email 2    8  13   24    6    6   2  102    1   27  ...         0   \n",
      "2        Email 3    0   0    1    0    0   0    8    0    0  ...         0   \n",
      "3        Email 4    0   5   22    0    5   1   51    2   10  ...         0   \n",
      "4        Email 5    7   6   17    1    5   2   57    0    9  ...         0   \n",
      "...          ...  ...  ..  ...  ...  ...  ..  ...  ...  ...  ...       ...   \n",
      "5167  Email 5168    2   2    2    3    0   0   32    0    0  ...         0   \n",
      "5168  Email 5169   35  27   11    2    6   5  151    4    3  ...         0   \n",
      "5169  Email 5170    0   0    1    1    0   0   11    0    0  ...         0   \n",
      "5170  Email 5171    2   7    1    0    2   1   28    2    0  ...         0   \n",
      "5171  Email 5172   22  24    5    1    6   5  148    8    2  ...         0   \n",
      "\n",
      "      jay  valued  lay  infrastructure  military  allowing  ff  dry  \\\n",
      "0       0       0    0               0         0         0   0    0   \n",
      "1       0       0    0               0         0         0   1    0   \n",
      "2       0       0    0               0         0         0   0    0   \n",
      "3       0       0    0               0         0         0   0    0   \n",
      "4       0       0    0               0         0         0   1    0   \n",
      "...   ...     ...  ...             ...       ...       ...  ..  ...   \n",
      "5167    0       0    0               0         0         0   0    0   \n",
      "5168    0       0    0               0         0         0   1    0   \n",
      "5169    0       0    0               0         0         0   0    0   \n",
      "5170    0       0    0               0         0         0   1    0   \n",
      "5171    0       0    0               0         0         0   0    0   \n",
      "\n",
      "      Prediction  \n",
      "0              0  \n",
      "1              0  \n",
      "2              0  \n",
      "3              0  \n",
      "4              0  \n",
      "...          ...  \n",
      "5167           0  \n",
      "5168           0  \n",
      "5169           1  \n",
      "5170           1  \n",
      "5171           0  \n",
      "\n",
      "[5172 rows x 3002 columns]\n"
     ]
    }
   ],
   "source": [
    "input=pd.read_csv(\"emails.csv\")\n",
    "print(input)\n",
    "#input.head() --> return top 5 rows"
   ]
  },
  {
   "cell_type": "code",
   "execution_count": 4,
   "id": "54f6a38f",
   "metadata": {},
   "outputs": [
    {
     "name": "stdout",
     "output_type": "stream",
     "text": [
      "Email No.     0\n",
      "the           0\n",
      "to            0\n",
      "ect           0\n",
      "and           0\n",
      "             ..\n",
      "military      0\n",
      "allowing      0\n",
      "ff            0\n",
      "dry           0\n",
      "Prediction    0\n",
      "Length: 3002, dtype: int64\n"
     ]
    }
   ],
   "source": [
    "print(input.isnull().sum())"
   ]
  },
  {
   "cell_type": "code",
   "execution_count": 5,
   "id": "5bae6fc3",
   "metadata": {},
   "outputs": [],
   "source": [
    "X = input.iloc[:,1:3001]\n",
    "Y = input.iloc[:,-1].values\n",
    "train_x,test_x,train_y,test_y = train_test_split(X,Y,test_size = 0.25)\n"
   ]
  },
  {
   "cell_type": "code",
   "execution_count": 15,
   "id": "a307d64d",
   "metadata": {},
   "outputs": [
    {
     "name": "stdout",
     "output_type": "stream",
     "text": [
      "Accuracy Score for Naive Bayes :  0.9412219644238206\n"
     ]
    }
   ],
   "source": [
    "mnb = MultinomialNB(alpha=0.1) # reduce the alpha to get good result      \n",
    "mnb.fit(train_x,train_y)\n",
    "y_pred = mnb.predict(test_x)\n",
    "print(\"Accuracy Score for Naive Bayes : \", accuracy_score(y_pred,test_y))"
   ]
  },
  {
   "cell_type": "code",
   "execution_count": 16,
   "id": "e7632dd0",
   "metadata": {},
   "outputs": [
    {
     "name": "stdout",
     "output_type": "stream",
     "text": [
      "Accuracy Score for SVC :  0.9590100541376644\n"
     ]
    }
   ],
   "source": [
    "svc = SVC(C=5.0,kernel='linear')  #kernel{‘linear’, ‘poly’, ‘rbf’, ‘sigmoid’, ‘precomputed’}\n",
    "svc.fit(train_x,train_y)\n",
    "y_pred2 = svc.predict(test_x)\n",
    "print(\"Accuracy Score for SVC : \", accuracy_score(y_pred2,test_y))\n",
    "\n",
    "# c=1.0 ==>0.8\n",
    "# c=3.0 ==>0.9\n",
    "# kernel ='rbf' ->0.91\n",
    "#kernel ='linear' -->0.95\n",
    "#poly ==>0.89\n",
    "#sigmoid =>0.53\n",
    "# precomputed => square matrix  3*3 , 5*5\n",
    "#sq=np.array([1, 2, 3, 4, 5, 6, 7, 8, 9]).reshape(3,3)\n",
    "#print(sq)"
   ]
  },
  {
   "cell_type": "code",
   "execution_count": 17,
   "id": "39dabf33",
   "metadata": {},
   "outputs": [
    {
     "name": "stdout",
     "output_type": "stream",
     "text": [
      "Accuracy score of Decision Tree: 0.9064191802010828\n"
     ]
    }
   ],
   "source": [
    "dt = DecisionTreeClassifier(max_features=1.0,splitter='random', max_depth=217)\n",
    "dt.fit(train_x, train_y)\n",
    "y_pred4 = dt.predict(test_x)\n",
    "print('Accuracy score of Decision Tree:', accuracy_score(test_y, y_pred4))"
   ]
  },
  {
   "cell_type": "code",
   "execution_count": 18,
   "id": "b0a2dbe2",
   "metadata": {},
   "outputs": [
    {
     "name": "stdout",
     "output_type": "stream",
     "text": [
      "Accuracy Score of Random Forest Classifier :  0.9729311678267595\n"
     ]
    }
   ],
   "source": [
    "rfc = RandomForestClassifier(n_estimators=200,criterion='log_loss',max_samples=1.0) #criterion{“gini”, “entropy”, “log_loss”}\n",
    "rfc.fit(train_x,train_y)\n",
    "y_pred3 = rfc.predict(test_x)\n",
    "print(\"Accuracy Score of Random Forest Classifier : \", accuracy_score(y_pred3,test_y))\n",
    "\n",
    "#gini --> 0.9837\n",
    "#entropy -> 0.9845\n",
    "#log_loss -> 0.9860\n",
    "# sqrt ->0.979\n",
    "# log2 -> 0.9744\n",
    "#max_sampl --1.0 ->0.9814\n",
    "#max_sam ->0.9 ->0.9853"
   ]
  },
  {
   "cell_type": "code",
   "execution_count": null,
   "id": "932a3eef",
   "metadata": {},
   "outputs": [
    {
     "name": "stdout",
     "output_type": "stream",
     "text": [
      "AS - Bagged Naive 0.9443155452436195\n"
     ]
    }
   ],
   "source": [
    "from sklearn.ensemble import BaggingClassifier\n",
    "Naivebag = BaggingClassifier(mnb, n_estimators=100, max_samples=1.0,\n",
    "random_state=1)\n",
    "Naivebag.fit(train_x, train_y)\n",
    "\n",
    "Svmbag = BaggingClassifier(svc, n_estimators=100, max_samples=1.0,\n",
    "random_state=1)\n",
    "Svmbag.fit(train_x, train_y)\n",
    "\n",
    "Decisionbag = BaggingClassifier(dt, n_estimators=100, max_samples=1.0,\n",
    "random_state=1)\n",
    "Decisionbag.fit(train_x, train_y)\n",
    "\n",
    "RandomBag = BaggingClassifier(rfc, n_estimators=100, max_samples=1.0,\n",
    "random_state=1)\n",
    "RandomBag.fit(train_x, train_y)\n",
    "\n",
    "bag1 = Naivebag.predict(test_x)\n",
    "print(\"AS - Bagged Naive\",accuracy_score(test_y, bag1))\n",
    "bag2 = Svmbag.predict(test_x)\n",
    "print(\"AS - Bagged SVM\",accuracy_score(test_y, bag2))\n",
    "bag3 = Decisionbag.predict(test_x)\n",
    "print(\"AS - Bagged DecisionTree\",accuracy_score(test_y, bag3))\n",
    "bag4 = RandomBag.predict(test_x)\n",
    "print(\"AS - Bagged Random Forest\",accuracy_score(test_y, bag4))"
   ]
  },
  {
   "cell_type": "code",
   "execution_count": 24,
   "id": "2e084d1d",
   "metadata": {},
   "outputs": [
    {
     "name": "stdout",
     "output_type": "stream",
     "text": [
      "AS - Bagged Naive 0.9443155452436195\n"
     ]
    }
   ],
   "source": [
    "Naivebag = BaggingClassifier(mnb, n_estimators=100, max_samples=1.0,\n",
    "random_state=1)\n",
    "Naivebag.fit(train_x, train_y)\n",
    "bag1 = Naivebag.predict(test_x)\n",
    "\n",
    "print(\"AS - Bagged Naive\",accuracy_score(test_y, bag1))"
   ]
  },
  {
   "cell_type": "code",
   "execution_count": 25,
   "id": "09407d91",
   "metadata": {},
   "outputs": [
    {
     "name": "stdout",
     "output_type": "stream",
     "text": [
      "AS - Bagged SVM 0.9535962877030162\n"
     ]
    }
   ],
   "source": [
    "Svmbag = BaggingClassifier(svc, n_estimators=100, max_samples=1.0,\n",
    "random_state=1)\n",
    "Svmbag.fit(train_x, train_y)\n",
    "bag2 = Svmbag.predict(test_x)\n",
    "print(\"AS - Bagged SVM\",accuracy_score(test_y, bag2))"
   ]
  },
  {
   "cell_type": "code",
   "execution_count": 26,
   "id": "dc254d43",
   "metadata": {},
   "outputs": [
    {
     "name": "stdout",
     "output_type": "stream",
     "text": [
      "AS - Bagged DecisionTree 0.97138437741686\n"
     ]
    }
   ],
   "source": [
    "Decisionbag = BaggingClassifier(dt, n_estimators=200, max_samples=1.0,\n",
    "random_state=1)\n",
    "Decisionbag.fit(train_x, train_y)\n",
    "bag3 = Decisionbag.predict(test_x)\n",
    "print(\"AS - Bagged DecisionTree\",accuracy_score(test_y, bag3))"
   ]
  },
  {
   "cell_type": "code",
   "execution_count": 27,
   "id": "1327f9e5",
   "metadata": {},
   "outputs": [
    {
     "name": "stdout",
     "output_type": "stream",
     "text": [
      "AS - Bagged Random Forest 0.9729311678267595\n"
     ]
    }
   ],
   "source": [
    "RandomBag = BaggingClassifier(rfc, n_estimators=200, max_samples=1.0,\n",
    "random_state=1)\n",
    "RandomBag.fit(train_x, train_y)\n",
    "bag4 = RandomBag.predict(test_x)\n",
    "print(\"AS - Bagged Random Forest\",accuracy_score(test_y, bag4))"
   ]
  },
  {
   "cell_type": "code",
   "execution_count": null,
   "id": "1dcd9e4d",
   "metadata": {},
   "outputs": [],
   "source": []
  }
 ],
 "metadata": {
  "kernelspec": {
   "display_name": "Python 3 (ipykernel)",
   "language": "python",
   "name": "python3"
  },
  "language_info": {
   "codemirror_mode": {
    "name": "ipython",
    "version": 3
   },
   "file_extension": ".py",
   "mimetype": "text/x-python",
   "name": "python",
   "nbconvert_exporter": "python",
   "pygments_lexer": "ipython3",
   "version": "3.11.0"
  }
 },
 "nbformat": 4,
 "nbformat_minor": 5
}
